{
 "cells": [
  {
   "cell_type": "code",
   "execution_count": 1,
   "metadata": {},
   "outputs": [],
   "source": [
    "import numpy as np\n",
    "import scipy\n",
    "import matplotlib.pyplot as plt"
   ]
  },
  {
   "cell_type": "code",
   "execution_count": null,
   "metadata": {},
   "outputs": [],
   "source": [
    "class Quadrature:\n",
    "    def __init__(self, order):\n",
    "        self.order = order\n",
    "        self.quadrature_points = None\n",
    "        self.quadrature_weights = None\n",
    "        \n",
    "    def compute_quadrature(self):\n",
    "        # Compute the quadrature points and weights\n",
    "        # In 1D slab geometry, the quadrature points are the Legendre roots\n",
    "        # and the weights are the corresponding Legendre weights\n",
    "        self.quadrature_points, self.quadrature_weights = \\\n",
    "            np.polynomial.legendre.leggauss(self.order)\n",
    "            \n",
    "class Mesh:\n",
    "    def __init__(self, max_mesh_width):\n",
    "        self.max_mesh_width = max_mesh_width\n",
    "        self.mesh = None\n",
    "        self.dx = None\n",
    "    \n",
    "    def create_mesh(self):\n",
    "        pass\n",
    "\n",
    "class MaterialProperties:\n",
    "    pass\n",
    "\n",
    "class Solver:\n",
    "    pass"
   ]
  }
 ],
 "metadata": {
  "kernelspec": {
   "display_name": "rad-transport",
   "language": "python",
   "name": "python3"
  },
  "language_info": {
   "codemirror_mode": {
    "name": "ipython",
    "version": 3
   },
   "file_extension": ".py",
   "mimetype": "text/x-python",
   "name": "python",
   "nbconvert_exporter": "python",
   "pygments_lexer": "ipython3",
   "version": "3.13.1"
  }
 },
 "nbformat": 4,
 "nbformat_minor": 2
}
