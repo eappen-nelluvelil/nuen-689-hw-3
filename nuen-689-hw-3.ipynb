{
 "cells": [
  {
   "cell_type": "code",
   "execution_count": 2,
   "metadata": {},
   "outputs": [],
   "source": [
    "import numpy as np\n",
    "import scipy\n",
    "import matplotlib.pyplot as plt"
   ]
  },
  {
   "cell_type": "code",
   "execution_count": null,
   "metadata": {},
   "outputs": [],
   "source": [
    "class Quadrature:\n",
    "    def __init__(self, order):\n",
    "        self.order = order\n",
    "        self.mus = None\n",
    "        self.weights = None\n",
    "        \n",
    "    def compute_quadrature(self):\n",
    "        # Compute the quadrature points and weights\n",
    "        # In 1D slab geometry, the quadrature points are the Legendre roots\n",
    "        # and the weights are the corresponding Legendre weights\n",
    "        (self.mus, self.weights) = \\\n",
    "            np.polynomial.legendre.leggauss(self.order)\n",
    "        \n",
    "        # By default, angles go from negative to positive, and we want the opposite \n",
    "        self.mus = np.flip(self.mus)\n",
    "class Mesh:\n",
    "    def __init__(self, max_mesh_width, num_mesh_points):\n",
    "        self.max_mesh_width = max_mesh_width\n",
    "        self.num_mesh_points = num_mesh_points\n",
    "        self.dx = None \n",
    "        self.mesh = None\n",
    "    \n",
    "    def create_mesh(self):\n",
    "        # Number of mesh intervals and mesh spacing\n",
    "        self.mesh, self.dx = np.linspace(0, self.max_mesh_width, self.num_mesh_points, retstep=True)\n",
    "\n",
    "class MaterialProperties:\n",
    "    def __init__(self, zones_sigma_t, zones_sigma_a, zones_sigma_s, zones_q):\n",
    "        self.zones_sigma_t = zones_sigma_t # Dictionary where keys are tuples zone = (zone_begin, zone_end) and values are sigma_t for that zone\n",
    "        self.zones_sigma_a = zones_sigma_a # Same as above, but for sigma_a\n",
    "        self.zones_sigma_s = zones_sigma_s # Same as above, but for sigma_s\n",
    "        self.zones_q       = zones_q       # Same as above, but for external volumetric sources\n",
    "\n",
    "    def return_xs(self, mesh_point):\n",
    "        sigma_t = None\n",
    "        sigma_a = None\n",
    "        sigma_s = None\n",
    "\n",
    "        for (zone, sigma_t_val) in self.zones_sigma_t.items():\n",
    "            if zone[0] <= mesh_point <= zone[1]:\n",
    "                sigma_t = sigma_t_val\n",
    "\n",
    "        for (zone, sigma_a_val) in self.zones_sigma_a.items():\n",
    "            if zone[0] <= mesh_point <= zone[1]:\n",
    "                sigma_a = sigma_a_val\n",
    "\n",
    "        for (zone, sigma_s_val) in self.zones_sigma_s.items():\n",
    "            if zone[0] <= mesh_point <= zone[1]:\n",
    "                sigma_s = sigma_s_val\n",
    "\n",
    "        return (sigma_t, sigma_a, sigma_s)        \n",
    "             \n",
    "\n",
    "class Solver:\n",
    "    def __init__(self, left_bc, right_bc, zones_sigma_t,\n",
    "                 zones_sigma_a, zones_sigma_s, zones_q,\n",
    "\n",
    "                 solver_type=\"diamond-difference\"):\n"
   ]
  }
 ],
 "metadata": {
  "kernelspec": {
   "display_name": "openmc-env",
   "language": "python",
   "name": "python3"
  },
  "language_info": {
   "codemirror_mode": {
    "name": "ipython",
    "version": 3
   },
   "file_extension": ".py",
   "mimetype": "text/x-python",
   "name": "python",
   "nbconvert_exporter": "python",
   "pygments_lexer": "ipython3",
   "version": "3.12.8"
  }
 },
 "nbformat": 4,
 "nbformat_minor": 2
}
